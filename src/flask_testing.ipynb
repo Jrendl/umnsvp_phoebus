{
 "cells": [
  {
   "cell_type": "code",
   "execution_count": 2,
   "metadata": {},
   "outputs": [],
   "source": [
    "#only run this if you restart the jupyter engine\n",
    "#otherwise your paths will get messed up \n",
    "\n",
    "import requests\n",
    "import sys \n",
    "import os\n",
    "from pathlib import Path\n",
    "os.chdir(Path(\"../\"))\n",
    "\n",
    "can_packet_parser = Path(\"../can_packet_parser\")\n",
    "server_path = Path(\"./server\")\n",
    "sys.path.append(str(can_packet_parser))\n",
    "sys.path.append(str(server_path))\n",
    "from server import model\n",
    "from scrappy import yamls_to_packets, packet_t\n",
    "from parse_can_log import *"
   ]
  },
  {
   "cell_type": "code",
   "execution_count": 3,
   "metadata": {},
   "outputs": [
    {
     "name": "stdout",
     "output_type": "stream",
     "text": [
      "WARNING: types.yaml did not have packets.\n"
     ]
    }
   ],
   "source": [
    "packet_defs = yamls_to_packets(\"../../src/cangen/packets/\")"
   ]
  },
  {
   "cell_type": "code",
   "execution_count": 6,
   "metadata": {},
   "outputs": [],
   "source": [
    "#I save all the ASC can logs to this location.\n",
    "#They can be found here: https://drive.google.com/file/d/1LbC-iea3hTGMYN80olSRcokneG2ogF-s/view?usp=share_link\n",
    "#DO NOT PUSH THE CAN LOGS TO THE REPO\n",
    "data_path = Path(\"data/ASC_CAN_LOGS/ASC_Day_3.csv\")\n",
    "day3 = load_data_from_telem_sd_log(data_path)"
   ]
  },
  {
   "cell_type": "code",
   "execution_count": 9,
   "metadata": {},
   "outputs": [
    {
     "ename": "KeyboardInterrupt",
     "evalue": "",
     "output_type": "error",
     "traceback": [
      "\u001B[0;31m---------------------------------------------------------------------------\u001B[0m",
      "\u001B[0;31mKeyboardInterrupt\u001B[0m                         Traceback (most recent call last)",
      "Cell \u001B[0;32mIn[9], line 20\u001B[0m\n\u001B[1;32m     18\u001B[0m packet_name: \u001B[38;5;28mstr\u001B[39m\n\u001B[1;32m     19\u001B[0m \u001B[38;5;28;01mif\u001B[39;00m can_packet_t\u001B[38;5;241m.\u001B[39mrepeat \u001B[38;5;241m>\u001B[39m \u001B[38;5;241m1\u001B[39m:\n\u001B[0;32m---> 20\u001B[0m     packet_name \u001B[38;5;241m=\u001B[39m \u001B[38;5;124mf\u001B[39m\u001B[38;5;124m\"\u001B[39m\u001B[38;5;132;01m{\u001B[39;00mcan_packet_t\u001B[38;5;241m.\u001B[39mname[packet[\u001B[38;5;241m1\u001B[39m]\u001B[38;5;241m-\u001B[39mcan_packet_t\u001B[38;5;241m.\u001B[39mids[\u001B[38;5;241m0\u001B[39m]]\u001B[38;5;132;01m}\u001B[39;00m\u001B[38;5;124m_\u001B[39m\u001B[38;5;132;01m{\u001B[39;00mcan_packet_t\u001B[38;5;241m.\u001B[39moffset\u001B[38;5;241m*\u001B[39m(packet[\u001B[38;5;241m1\u001B[39m]\u001B[38;5;241m-\u001B[39mcan_packet_t\u001B[38;5;241m.\u001B[39mids[\u001B[38;5;241m0\u001B[39m])\u001B[38;5;132;01m}\u001B[39;00m\u001B[38;5;124m\"\u001B[39m\n\u001B[1;32m     21\u001B[0m \u001B[38;5;28;01melse\u001B[39;00m:\n\u001B[1;32m     22\u001B[0m     packet_name \u001B[38;5;241m=\u001B[39m \u001B[38;5;124mf\u001B[39m\u001B[38;5;124m\"\u001B[39m\u001B[38;5;132;01m{\u001B[39;00mcan_packet_t\u001B[38;5;241m.\u001B[39mname[\u001B[38;5;241m0\u001B[39m]\u001B[38;5;132;01m}\u001B[39;00m\u001B[38;5;124m\"\u001B[39m  \n",
      "\u001B[0;31mKeyboardInterrupt\u001B[0m: "
     ]
    }
   ],
   "source": [
    "#This script will just spam the bus with as many packets as it can \n",
    "#caches to a list (similar to the actual implementation) \n",
    "#posts every 250 packets\n",
    "from time import time_ns\n",
    "import time\n",
    "import math\n",
    "post_avg = 0\n",
    "bad_packets = 0\n",
    "packet_cache = list()\n",
    "for packet in day3:\n",
    "    can_packet_t = packet_defs.get(packet[1], None)\n",
    "    if can_packet_t is not None:\n",
    "        parsed_packet = can_packet_t.parse_packet_to_json(packet[1], packet[2])\n",
    "\n",
    "        for board in parsed_packet:\n",
    "            for message in parsed_packet[board]:\n",
    "                for idx in parsed_packet[board][message]:\n",
    "                    packet_name: str\n",
    "                    if can_packet_t.repeat > 1:\n",
    "                        packet_name = f\"{can_packet_t.name[packet[1]-can_packet_t.ids[0]]}_{can_packet_t.offset*(packet[1]-can_packet_t.ids[0])}\"\n",
    "                    else:\n",
    "                        packet_name = f\"{can_packet_t.name[0]}\"  \n",
    "                    p = {   \"ID\": idx,\n",
    "                            \"packet_name\": packet_name,\n",
    "                            \"board\": board,\n",
    "                            \"data\": parsed_packet[board][message]\n",
    "                    }\n",
    "                    if packet_name != \"bms_measurement\":\n",
    "                        continue\n",
    "                    packet_cache.append(p)\n",
    "                    #this is where you decide how often to post\n",
    "                    if len(packet_cache) >= 50:\n",
    "                        #records timing for each post\n",
    "                        start_time = time_ns()\n",
    "                        requests.post(f\"http://127.0.0.1:5000/telemetry/{board}/{packet_name}\", json = [p])\n",
    "                        post_avg += (time_ns() - start_time)\n",
    "                        packet_cache.clear()\n",
    "    else: bad_packets += 1\n",
    "post_avg /= (len(day3)-bad_packets)\n",
    "print(f\"Average Post time for {len(day3)-bad_packets} packets is: {post_avg} ns, {post_avg/math.pow(10, 6)}\")"
   ]
  },
  {
   "cell_type": "code",
   "execution_count": null,
   "outputs": [],
   "source": [],
   "metadata": {
    "collapsed": false
   }
  },
  {
   "cell_type": "code",
   "execution_count": null,
   "outputs": [],
   "source": [],
   "metadata": {
    "collapsed": false
   }
  }
 ],
 "metadata": {
  "kernelspec": {
   "display_name": "Python 3.10.1 64-bit",
   "language": "python",
   "name": "python3"
  },
  "language_info": {
   "codemirror_mode": {
    "name": "ipython",
    "version": 3
   },
   "file_extension": ".py",
   "mimetype": "text/x-python",
   "name": "python",
   "nbconvert_exporter": "python",
   "pygments_lexer": "ipython3",
   "version": "3.10.4"
  },
  "orig_nbformat": 4,
  "vscode": {
   "interpreter": {
    "hash": "b0d7b780454923724db95d280e7b661e2ef29527ba67a1160ff3f61c0d9ac288"
   }
  }
 },
 "nbformat": 4,
 "nbformat_minor": 2
}
